{
 "cells": [
  {
   "cell_type": "code",
   "execution_count": 3,
   "id": "1877595e",
   "metadata": {},
   "outputs": [],
   "source": [
    "# Importando bibliotecas\n",
    "from pathlib import Path\n",
    "import os"
   ]
  },
  {
   "cell_type": "code",
   "execution_count": 11,
   "id": "9d882dd6",
   "metadata": {},
   "outputs": [
    {
     "data": {
      "text/plain": [
       "['basico.ipynb', 'retornando_conteudo.ipynb']"
      ]
     },
     "execution_count": 11,
     "metadata": {},
     "output_type": "execute_result"
    }
   ],
   "source": [
    "# Listando arquivos de uma pasta\n",
    "# list(Path.cwd().glob('*'))\n",
    "path = os.getcwd()\n",
    "os.listdir(path)"
   ]
  },
  {
   "cell_type": "code",
   "execution_count": 22,
   "id": "7dfc6590",
   "metadata": {},
   "outputs": [
    {
     "name": "stdout",
     "output_type": "stream",
     "text": [
      "[WindowsPath('c:/Users/guilh/OneDrive/Documents/GitHub_Repository/Asimov_Curso/Ler_Escrever_Arquivos/basico.ipynb'), WindowsPath('c:/Users/guilh/OneDrive/Documents/GitHub_Repository/Asimov_Curso/Ler_Escrever_Arquivos/retornando_conteudo.ipynb')]\n"
     ]
    }
   ],
   "source": [
    "# Listando arquivos de uma pasta (de outra forma)\n",
    "tudo_da_pasta = Path.cwd().glob('*.ipynb')\n",
    "# Como é um arquivo generator, precisamos colocar dentro de uma lista\n",
    "print(list(tudo_da_pasta))"
   ]
  },
  {
   "cell_type": "code",
   "execution_count": 23,
   "id": "13a8db6c",
   "metadata": {},
   "outputs": [
    {
     "name": "stdout",
     "output_type": "stream",
     "text": [
      "[WindowsPath('c:/Users/guilh/OneDrive/Documents/GitHub_Repository/Asimov_Curso/Ler_Escrever_Arquivos/basico.ipynb'), WindowsPath('c:/Users/guilh/OneDrive/Documents/GitHub_Repository/Asimov_Curso/Ler_Escrever_Arquivos/retornando_conteudo.ipynb')]\n"
     ]
    }
   ],
   "source": [
    "# Listando tudo que existe dentro da pasta\n",
    "tudo_da_pasta = Path.cwd().glob('**/*')\n",
    "# Como é um arquivo generator, precisamos colocar dentro de uma lista\n",
    "print(list(tudo_da_pasta))"
   ]
  },
  {
   "cell_type": "code",
   "execution_count": null,
   "id": "42a11de2",
   "metadata": {},
   "outputs": [
    {
     "ename": "NameError",
     "evalue": "name '__file__' is not defined",
     "output_type": "error",
     "traceback": [
      "\u001b[31m---------------------------------------------------------------------------\u001b[39m",
      "\u001b[31mNameError\u001b[39m                                 Traceback (most recent call last)",
      "\u001b[36mCell\u001b[39m\u001b[36m \u001b[39m\u001b[32mIn[24]\u001b[39m\u001b[32m, line 3\u001b[39m\n\u001b[32m      1\u001b[39m \u001b[38;5;66;03m# Verificando se é um arquivo ou uma pasta\u001b[39;00m\n\u001b[32m----> \u001b[39m\u001b[32m3\u001b[39m \u001b[38;5;28mprint\u001b[39m(Path(\u001b[34;43m__file__\u001b[39;49m).is_file()) \u001b[38;5;66;03m# Para validar arquivos\u001b[39;00m\n\u001b[32m      4\u001b[39m \u001b[38;5;28mprint\u001b[39m(Path(\u001b[34m__file__\u001b[39m).is_dir()) \u001b[38;5;66;03m# Para validar pastas\u001b[39;00m\n",
      "\u001b[31mNameError\u001b[39m: name '__file__' is not defined"
     ]
    }
   ],
   "source": [
    "# Verificando se é um arquivo ou uma pasta\n",
    "\n",
    "print(Path(__file__).is_file()) # Para validar arquivos\n",
    "print(Path(__file__).parent.is_dir()) # Para validar pastas"
   ]
  }
 ],
 "metadata": {
  "kernelspec": {
   "display_name": "local_venv",
   "language": "python",
   "name": "python3"
  },
  "language_info": {
   "codemirror_mode": {
    "name": "ipython",
    "version": 3
   },
   "file_extension": ".py",
   "mimetype": "text/x-python",
   "name": "python",
   "nbconvert_exporter": "python",
   "pygments_lexer": "ipython3",
   "version": "3.11.9"
  }
 },
 "nbformat": 4,
 "nbformat_minor": 5
}
