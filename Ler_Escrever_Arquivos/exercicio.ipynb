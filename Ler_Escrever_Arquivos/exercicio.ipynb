{
 "cells": [
  {
   "cell_type": "code",
   "execution_count": 1,
   "id": "147146a2",
   "metadata": {},
   "outputs": [],
   "source": [
    "import os \n",
    "from pathlib import Path"
   ]
  },
  {
   "cell_type": "markdown",
   "id": "1883f087",
   "metadata": {},
   "source": [
    "### Desenvolva um script para encontrar um arquivo dentro da pasta home do usuario\n",
    "\n"
   ]
  },
  {
   "cell_type": "code",
   "execution_count": null,
   "id": "feb5c23b",
   "metadata": {},
   "outputs": [
    {
     "name": "stdout",
     "output_type": "stream",
     "text": [
      "C:\\Users\\Guilherme\n"
     ]
    }
   ],
   "source": [
    "# Capturando o caminho da pasta home do usuario\n",
    "\n",
    "caminho_usuario = Path.home()\n",
    "print(caminho_usuario)"
   ]
  },
  {
   "cell_type": "code",
   "execution_count": 16,
   "id": "9dee22b4",
   "metadata": {},
   "outputs": [],
   "source": [
    "# Entendendo o que há dentro da pasta\n",
    "\n",
    "home_folder_files = list(caminho_usuario.glob('**/*')) # Captura tudo que esteja dentro de pastas e etc"
   ]
  },
  {
   "cell_type": "code",
   "execution_count": 10,
   "id": "94c22f0a",
   "metadata": {},
   "outputs": [
    {
     "name": "stdout",
     "output_type": "stream",
     "text": [
      "334709\n"
     ]
    }
   ],
   "source": [
    "i = 0\n",
    "for arquivo in home_folder_files:\n",
    "    if arquivo.is_file():\n",
    "        i = i + 1\n",
    "    else:\n",
    "        pass\n",
    "\n",
    "print(i)"
   ]
  },
  {
   "cell_type": "code",
   "execution_count": 15,
   "id": "cf7491d7",
   "metadata": {},
   "outputs": [],
   "source": [
    "def encontra_arquivo(caminho,nome_do_arquivo):\n",
    "    for arquivo in caminho.glob('**/*'):\n",
    "        if arquivo.is_file():\n",
    "            if arquivo.stem == nome_do_arquivo:\n",
    "                print(arquivo)"
   ]
  },
  {
   "cell_type": "code",
   "execution_count": 14,
   "id": "a33a5a6a",
   "metadata": {},
   "outputs": [
    {
     "name": "stdout",
     "output_type": "stream",
     "text": [
      "c:\\Users\\Guilherme\\Documents\\GitHub\\Asimov_Curso\\Ler_Escrever_Arquivos\\exercicio.ipynb\n"
     ]
    }
   ],
   "source": [
    "encontra_arquivo(Path.cwd(),'exercicio')"
   ]
  }
 ],
 "metadata": {
  "kernelspec": {
   "display_name": ".venv",
   "language": "python",
   "name": "python3"
  },
  "language_info": {
   "codemirror_mode": {
    "name": "ipython",
    "version": 3
   },
   "file_extension": ".py",
   "mimetype": "text/x-python",
   "name": "python",
   "nbconvert_exporter": "python",
   "pygments_lexer": "ipython3",
   "version": "3.12.4"
  }
 },
 "nbformat": 4,
 "nbformat_minor": 5
}
