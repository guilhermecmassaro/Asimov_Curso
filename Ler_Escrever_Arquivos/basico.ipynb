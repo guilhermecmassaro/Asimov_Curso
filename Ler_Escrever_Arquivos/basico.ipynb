{
 "cells": [
  {
   "cell_type": "code",
   "execution_count": 1,
   "metadata": {},
   "outputs": [
    {
     "name": "stdout",
     "output_type": "stream",
     "text": [
      "hello world\n"
     ]
    }
   ],
   "source": [
    "print('hello world')"
   ]
  },
  {
   "cell_type": "code",
   "execution_count": 2,
   "metadata": {},
   "outputs": [],
   "source": [
    "from pathlib import Path"
   ]
  },
  {
   "cell_type": "code",
   "execution_count": null,
   "metadata": {},
   "outputs": [
    {
     "name": "stdout",
     "output_type": "stream",
     "text": [
      "Asimov_Curso\\Ler_Escrever_Arquivos\n"
     ]
    }
   ],
   "source": [
    "caminho = Path('Asimov_Curso/Ler_Escrever_Arquivos')\n",
    "print(caminho)\n",
    "\n",
    "# Temos a barra invertida no sistema operacional do Windows. Já no Mac e Linux, não!\n",
    "# O importante de se utilizar o Path, é que ele percebe qual sistema operacional estamos utilizando e ai já adaptda o código."
   ]
  },
  {
   "cell_type": "code",
   "execution_count": 8,
   "metadata": {},
   "outputs": [
    {
     "name": "stdout",
     "output_type": "stream",
     "text": [
      "C:\\Users\\guilh\n"
     ]
    }
   ],
   "source": [
    "print(Path.home())"
   ]
  },
  {
   "cell_type": "code",
   "execution_count": 9,
   "metadata": {},
   "outputs": [
    {
     "name": "stdout",
     "output_type": "stream",
     "text": [
      "False\n"
     ]
    }
   ],
   "source": [
    "print(Path('Ler_Escrever_Arquivos').exists())"
   ]
  },
  {
   "cell_type": "code",
   "execution_count": 10,
   "metadata": {},
   "outputs": [
    {
     "name": "stdout",
     "output_type": "stream",
     "text": [
      "True\n"
     ]
    }
   ],
   "source": [
    "print(Path(r'C:\\Users\\guilh\\OneDrive\\Documents\\GitHub_Repository\\Asimov_Curso\\Ler_Escrever_Arquivos').exists())"
   ]
  },
  {
   "cell_type": "code",
   "execution_count": null,
   "metadata": {},
   "outputs": [
    {
     "name": "stdout",
     "output_type": "stream",
     "text": [
      "c:\\Users\\guilh\\OneDrive\\Documents\\GitHub_Repository\\Asimov_Curso\\Ler_Escrever_Arquivos\n"
     ]
    }
   ],
   "source": [
    "# Retorna o caminho do diretório de trabalho atual\n",
    "# CWD = Current Work Diretory\n",
    "print(Path.cwd())"
   ]
  },
  {
   "cell_type": "code",
   "execution_count": null,
   "metadata": {},
   "outputs": [
    {
     "name": "stdout",
     "output_type": "stream",
     "text": [
      "True\n"
     ]
    }
   ],
   "source": [
    "# Esse é o caminho absoluto\n",
    "\n",
    "# Existe uma preferência de utilizar caminhos absolutos ao invés de relativos. Eles causam menos problemas\n",
    "print(Path.cwd().is_absolute())"
   ]
  },
  {
   "cell_type": "code",
   "execution_count": null,
   "metadata": {},
   "outputs": [
    {
     "name": "stdout",
     "output_type": "stream",
     "text": [
      "c:\\Users\\guilh\\OneDrive\\Documents\\GitHub_Repository\\Asimov_Curso\\Ler_Escrever_Arquivos\\teste.ipynb\n",
      "True\n"
     ]
    }
   ],
   "source": [
    "# Transformando o caminho em absoluto\n",
    "\n",
    "# Não recomendado pelas boas práticas, deu um exemplo na aula\n",
    "caminho_completo = Path.cwd() / Path('teste.ipynb')\n",
    "print(caminho_completo)\n",
    "print(caminho_completo.exists())"
   ]
  },
  {
   "cell_type": "code",
   "execution_count": null,
   "metadata": {},
   "outputs": [
    {
     "ename": "NameError",
     "evalue": "name '__file__' is not defined",
     "output_type": "error",
     "traceback": [
      "\u001b[31m---------------------------------------------------------------------------\u001b[39m",
      "\u001b[31mNameError\u001b[39m                                 Traceback (most recent call last)",
      "\u001b[36mCell\u001b[39m\u001b[36m \u001b[39m\u001b[32mIn[22]\u001b[39m\u001b[32m, line 3\u001b[39m\n\u001b[32m      1\u001b[39m \u001b[38;5;66;03m# Garantindo que estamos retornando o caminho para a pasta do script\u001b[39;00m\n\u001b[32m      2\u001b[39m \u001b[38;5;66;03m# The __file__ attribute is not available in interactive shells like the Python REPL or Jupyter notebooks\u001b[39;00m\n\u001b[32m----> \u001b[39m\u001b[32m3\u001b[39m \u001b[38;5;28mprint\u001b[39m(\u001b[34;43m__file__\u001b[39;49m)\n\u001b[32m      4\u001b[39m \u001b[38;5;28mprint\u001b[39m(Path(\u001b[34m__file__\u001b[39m))\n",
      "\u001b[31mNameError\u001b[39m: name '__file__' is not defined"
     ]
    }
   ],
   "source": [
    "# Garantindo que estamos retornando o caminho para a pasta do script\n",
    "# The __file__ attribute is not available in interactive shells like the Python REPL or Jupyter notebooks\n",
    "# Uma alternativa abaixo\n",
    "print(__file__)\n",
    "print(Path(__file__))"
   ]
  },
  {
   "cell_type": "code",
   "execution_count": null,
   "metadata": {},
   "outputs": [],
   "source": []
  }
 ],
 "metadata": {
  "kernelspec": {
   "display_name": "local_venv",
   "language": "python",
   "name": "python3"
  },
  "language_info": {
   "codemirror_mode": {
    "name": "ipython",
    "version": 3
   },
   "file_extension": ".py",
   "mimetype": "text/x-python",
   "name": "python",
   "nbconvert_exporter": "python",
   "pygments_lexer": "ipython3",
   "version": "3.11.9"
  }
 },
 "nbformat": 4,
 "nbformat_minor": 2
}
